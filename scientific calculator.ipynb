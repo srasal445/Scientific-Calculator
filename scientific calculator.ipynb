{
 "cells": [
  {
   "cell_type": "code",
   "execution_count": 2,
   "id": "5b6678b5-7059-4b51-b27b-cc5b424f26ea",
   "metadata": {},
   "outputs": [],
   "source": [
    "import tkinter as tk\n",
    "import math\n",
    "\n",
    "def click(event):\n",
    "    global expression\n",
    "    text = event.widget.cget(\"text\")\n",
    "    \n",
    "    if text == \"=\":\n",
    "        try:\n",
    "            result = str(eval(expression))\n",
    "            screen_var.set(result)\n",
    "            expression = result\n",
    "        except Exception:\n",
    "            screen_var.set(\"Error\")\n",
    "            expression = \"\"\n",
    "    elif text == \"C\":\n",
    "        expression = \"\"\n",
    "        screen_var.set(\"\")\n",
    "    else:\n",
    "        expression += text\n",
    "        screen_var.set(expression)\n",
    "\n",
    "expression = \"\"\n",
    "root = tk.Tk()\n",
    "root.title(\"Scientific Calculator\")\n",
    "\n",
    "screen_var = tk.StringVar()\n",
    "screen = tk.Entry(root, textvar=screen_var, font=\"lucida 20 bold\")\n",
    "screen.pack(fill=\"both\", ipadx=8, pady=10, padx=10)\n",
    "\n",
    "buttons = [\n",
    "    [\"7\", \"8\", \"9\", \"/\", \"sqrt\"],\n",
    "    [\"4\", \"5\", \"6\", \"*\", \"pow\"],\n",
    "    [\"1\", \"2\", \"3\", \"-\", \"log\"],\n",
    "    [\"0\", \".\", \"C\", \"+\", \"=\"]\n",
    "]\n",
    "\n",
    "for row in buttons:\n",
    "    frame = tk.Frame(root)\n",
    "    frame.pack()\n",
    "    for btn in row:\n",
    "        b = tk.Button(frame, text=btn, font=\"lucida 15 bold\", width=6, height=2)\n",
    "        b.pack(side=\"left\", padx=2, pady=2)\n",
    "        b.bind(\"<Button-1>\", click)\n",
    "\n",
    "root.mainloop()\n"
   ]
  },
  {
   "cell_type": "code",
   "execution_count": null,
   "id": "2cf70207-2fa6-4ab3-9415-b861ad014e9f",
   "metadata": {},
   "outputs": [],
   "source": []
  }
 ],
 "metadata": {
  "kernelspec": {
   "display_name": "Python 3 (ipykernel)",
   "language": "python",
   "name": "python3"
  },
  "language_info": {
   "codemirror_mode": {
    "name": "ipython",
    "version": 3
   },
   "file_extension": ".py",
   "mimetype": "text/x-python",
   "name": "python",
   "nbconvert_exporter": "python",
   "pygments_lexer": "ipython3",
   "version": "3.13.5"
  }
 },
 "nbformat": 4,
 "nbformat_minor": 5
}
